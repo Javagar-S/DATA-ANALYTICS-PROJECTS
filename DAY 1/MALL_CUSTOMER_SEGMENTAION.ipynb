{
 "cells": [
  {
   "cell_type": "code",
   "execution_count": 1,
   "id": "7c9f4f17-0c79-44d1-ac36-73fd9ca40390",
   "metadata": {},
   "outputs": [
    {
     "ename": "ModuleNotFoundError",
     "evalue": "No module named 'pandas'",
     "output_type": "error",
     "traceback": [
      "\u001b[31m---------------------------------------------------------------------------\u001b[39m",
      "\u001b[31mModuleNotFoundError\u001b[39m                       Traceback (most recent call last)",
      "\u001b[36mCell\u001b[39m\u001b[36m \u001b[39m\u001b[32mIn[1]\u001b[39m\u001b[32m, line 1\u001b[39m\n\u001b[32m----> \u001b[39m\u001b[32m1\u001b[39m \u001b[38;5;28;01mimport\u001b[39;00m\u001b[38;5;250m \u001b[39m\u001b[34;01mpandas\u001b[39;00m\u001b[38;5;250m \u001b[39m\u001b[38;5;28;01mas\u001b[39;00m\u001b[38;5;250m \u001b[39m\u001b[34;01mpd\u001b[39;00m\n\u001b[32m      2\u001b[39m \u001b[38;5;28;01mimport\u001b[39;00m\u001b[38;5;250m \u001b[39m\u001b[34;01mnumpy\u001b[39;00m\u001b[38;5;250m \u001b[39m\u001b[38;5;28;01mas\u001b[39;00m\u001b[38;5;250m \u001b[39m\u001b[34;01mnp\u001b[39;00m\n\u001b[32m      4\u001b[39m \u001b[38;5;66;03m# Load dataset\u001b[39;00m\n",
      "\u001b[31mModuleNotFoundError\u001b[39m: No module named 'pandas'"
     ]
    }
   ],
   "source": [
    "import pandas as pd\n",
    "import numpy as np\n",
    "\n",
    "# Load dataset\n",
    "df = pd.read_csv(\"your_dataset_200.csv\")  \n",
    "\n",
    "# 1. Clean column headers to be lowercase and underscored\n",
    "df.columns = df.columns.str.lower().str.strip().str.replace(\" \", \"_\")\n",
    "\n",
    "# 2. Standardize gender values\n",
    "df['gender'] = df['gender'].str.lower().str.strip()\n",
    "df['gender'] = df['gender'].replace({\n",
    "    'm': 'male', 'male': 'male',\n",
    "    'f': 'female', 'female': 'female'\n",
    "})\n",
    "\n",
    "# 3. Standardize country names\n",
    "df['country'] = df['country'].str.lower().str.strip()\n",
    "df['country'] = df['country'].replace({\n",
    "    'u.s.a': 'usa',\n",
    "    'united states': 'usa',\n",
    "    'usa': 'usa',\n",
    "    'india': 'india'\n",
    "})\n",
    "\n",
    "# 4. Convert 'date_of_birth' to datetime format (and handle errors)\n",
    "df['date_of_birth'] = pd.to_datetime(df['date_of_birth'], errors='coerce', dayfirst=True)\n",
    "\n",
    "# 5. Fill missing age values using year from DOB\n",
    "df['age'] = df.apply(\n",
    "    lambda row: 2025 - row['date_of_birth'].year if pd.isnull(row['age']) and pd.notnull(row['date_of_birth']) else row['age'],\n",
    "    axis=1\n",
    ")\n",
    "\n",
    "# 6. Fix age data type to Int (nullable)\n",
    "df['age'] = pd.to_numeric(df['age'], errors='coerce').astype('Int64')\n",
    "\n",
    "# 7. Drop duplicate rows\n",
    "df = df.drop_duplicates()\n",
    "\n",
    "# 8. Drop rows missing essential fields\n",
    "df = df.dropna(subset=['full_name', 'gender', 'country'])\n",
    "\n",
    "# 9. Format date to dd-mm-yyyy before saving\n",
    "df['date_of_birth'] = df['date_of_birth'].dt.strftime('%d-%m-%Y')\n",
    "\n",
    "# 10. Save the cleaned dataset\n",
    "df.to_csv(\"Cleaned_Dataset.csv\", index=False)\n",
    "print(\" Cleaned dataset saved as 'Cleaned_Dataset.csv'\")\n"
   ]
  },
  {
   "cell_type": "code",
   "execution_count": null,
   "id": "e2674a67-c0ee-4afc-ab1f-814aa41fae30",
   "metadata": {},
   "outputs": [],
   "source": []
  }
 ],
 "metadata": {
  "kernelspec": {
   "display_name": ".venv (3.13.5)",
   "language": "python",
   "name": "python3"
  },
  "language_info": {
   "codemirror_mode": {
    "name": "ipython",
    "version": 3
   },
   "file_extension": ".py",
   "mimetype": "text/x-python",
   "name": "python",
   "nbconvert_exporter": "python",
   "pygments_lexer": "ipython3",
   "version": "3.13.5"
  }
 },
 "nbformat": 4,
 "nbformat_minor": 5
}
