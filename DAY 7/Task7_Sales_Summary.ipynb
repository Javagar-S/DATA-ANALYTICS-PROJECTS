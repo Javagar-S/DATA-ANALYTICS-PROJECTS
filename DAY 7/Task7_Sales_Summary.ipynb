{
 "cells": [
  {
   "cell_type": "code",
   "execution_count": 1,
   "id": "cbbd5815-5749-49c4-a4bb-9f1279eedcb1",
   "metadata": {},
   "outputs": [],
   "source": [
    "import sqlite3\n",
    "import pandas as pd\n",
    "import matplotlib.pyplot as plt"
   ]
  },
  {
   "cell_type": "code",
   "execution_count": 2,
   "id": "48123aff-a10f-4280-84c7-6e52018cf5d0",
   "metadata": {},
   "outputs": [],
   "source": [
    "conn = sqlite3.connect(\"sales_data.db\")\n",
    "cursor = conn.cursor()"
   ]
  },
  {
   "cell_type": "code",
   "execution_count": 3,
   "id": "9ead073a-114f-450a-bfa1-6028804ab990",
   "metadata": {},
   "outputs": [
    {
     "data": {
      "text/plain": [
       "<sqlite3.Cursor at 0x1468cf69ac0>"
      ]
     },
     "execution_count": 3,
     "metadata": {},
     "output_type": "execute_result"
    }
   ],
   "source": [
    "cursor.execute(\"\"\"\n",
    "CREATE TABLE IF NOT EXISTS sales (\n",
    "    product TEXT,\n",
    "    quantity INTEGER,\n",
    "    price REAL\n",
    ")\n",
    "\"\"\")\n"
   ]
  },
  {
   "cell_type": "code",
   "execution_count": 4,
   "id": "021ca8b0-2fe6-4bda-b1f5-3cbff37b23a1",
   "metadata": {},
   "outputs": [],
   "source": [
    "cursor.execute(\"SELECT COUNT(*) FROM sales\")\n",
    "if cursor.fetchone()[0] == 0:\n",
    "    sample_data = [\n",
    "        (\"Apple\", 10, 2.5),\n",
    "        (\"Banana\", 8, 1.5),\n",
    "        (\"Orange\", 12, 3.0),\n",
    "        (\"Apple\", 5, 2.5),\n",
    "        (\"Banana\", 7, 1.5),\n",
    "        (\"Grapes\", 15, 4.0),\n",
    "        (\"Mango\", 10, 5.0),\n",
    "        (\"Apple\", 8, 2.5),\n",
    "        (\"Banana\", 9, 1.5),\n",
    "        (\"Orange\", 11, 3.0),\n",
    "        (\"Grapes\", 7, 4.0),\n",
    "        (\"Mango\", 12, 5.0),\n",
    "        (\"Apple\", 6, 2.5),\n",
    "        (\"Banana\", 10, 1.5),\n",
    "        (\"Orange\", 8, 3.0),\n",
    "        (\"Grapes\", 9, 4.0),\n",
    "        (\"Mango\", 5, 5.0),\n",
    "        (\"Apple\", 7, 2.5),\n",
    "        (\"Banana\", 6, 1.5),\n",
    "        (\"Orange\", 9, 3.0),\n",
    "        (\"Grapes\", 8, 4.0),\n",
    "        (\"Mango\", 11, 5.0),\n",
    "        (\"Pineapple\", 4, 6.0),\n",
    "        (\"Pineapple\", 5, 6.0),\n",
    "        (\"Kiwi\", 3, 7.0)\n",
    "    ]\n",
    "    cursor.executemany(\"INSERT INTO sales VALUES (?, ?, ?)\", sample_data)\n",
    "    conn.commit()"
   ]
  },
  {
   "cell_type": "code",
   "execution_count": 5,
   "id": "8e8faff8-0497-4b06-9ddd-e07011397a3d",
   "metadata": {},
   "outputs": [
    {
     "data": {
      "text/html": [
       "<div>\n",
       "<style scoped>\n",
       "    .dataframe tbody tr th:only-of-type {\n",
       "        vertical-align: middle;\n",
       "    }\n",
       "\n",
       "    .dataframe tbody tr th {\n",
       "        vertical-align: top;\n",
       "    }\n",
       "\n",
       "    .dataframe thead th {\n",
       "        text-align: right;\n",
       "    }\n",
       "</style>\n",
       "<table border=\"1\" class=\"dataframe\">\n",
       "  <thead>\n",
       "    <tr style=\"text-align: right;\">\n",
       "      <th></th>\n",
       "      <th>product</th>\n",
       "      <th>total_quantity</th>\n",
       "    </tr>\n",
       "  </thead>\n",
       "  <tbody>\n",
       "    <tr>\n",
       "      <th>0</th>\n",
       "      <td>Apple</td>\n",
       "      <td>36</td>\n",
       "    </tr>\n",
       "    <tr>\n",
       "      <th>1</th>\n",
       "      <td>Banana</td>\n",
       "      <td>40</td>\n",
       "    </tr>\n",
       "    <tr>\n",
       "      <th>2</th>\n",
       "      <td>Grapes</td>\n",
       "      <td>39</td>\n",
       "    </tr>\n",
       "    <tr>\n",
       "      <th>3</th>\n",
       "      <td>Kiwi</td>\n",
       "      <td>3</td>\n",
       "    </tr>\n",
       "    <tr>\n",
       "      <th>4</th>\n",
       "      <td>Mango</td>\n",
       "      <td>38</td>\n",
       "    </tr>\n",
       "    <tr>\n",
       "      <th>5</th>\n",
       "      <td>Orange</td>\n",
       "      <td>40</td>\n",
       "    </tr>\n",
       "    <tr>\n",
       "      <th>6</th>\n",
       "      <td>Pineapple</td>\n",
       "      <td>9</td>\n",
       "    </tr>\n",
       "  </tbody>\n",
       "</table>\n",
       "</div>"
      ],
      "text/plain": [
       "     product  total_quantity\n",
       "0      Apple              36\n",
       "1     Banana              40\n",
       "2     Grapes              39\n",
       "3       Kiwi               3\n",
       "4      Mango              38\n",
       "5     Orange              40\n",
       "6  Pineapple               9"
      ]
     },
     "execution_count": 5,
     "metadata": {},
     "output_type": "execute_result"
    }
   ],
   "source": [
    "df_qty = pd.read_sql_query(\"\"\"\n",
    "SELECT product, SUM(quantity) AS total_quantity\n",
    "FROM sales\n",
    "GROUP BY product\n",
    "\"\"\", conn)\n",
    "df_qty"
   ]
  },
  {
   "cell_type": "code",
   "execution_count": 7,
   "id": "2e1f0095-296b-4a41-a64c-0bdbb5415f7f",
   "metadata": {},
   "outputs": [
    {
     "data": {
      "text/html": [
       "<div>\n",
       "<style scoped>\n",
       "    .dataframe tbody tr th:only-of-type {\n",
       "        vertical-align: middle;\n",
       "    }\n",
       "\n",
       "    .dataframe tbody tr th {\n",
       "        vertical-align: top;\n",
       "    }\n",
       "\n",
       "    .dataframe thead th {\n",
       "        text-align: right;\n",
       "    }\n",
       "</style>\n",
       "<table border=\"1\" class=\"dataframe\">\n",
       "  <thead>\n",
       "    <tr style=\"text-align: right;\">\n",
       "      <th></th>\n",
       "      <th>product</th>\n",
       "      <th>revenue</th>\n",
       "    </tr>\n",
       "  </thead>\n",
       "  <tbody>\n",
       "    <tr>\n",
       "      <th>0</th>\n",
       "      <td>Apple</td>\n",
       "      <td>90.0</td>\n",
       "    </tr>\n",
       "    <tr>\n",
       "      <th>1</th>\n",
       "      <td>Banana</td>\n",
       "      <td>60.0</td>\n",
       "    </tr>\n",
       "    <tr>\n",
       "      <th>2</th>\n",
       "      <td>Grapes</td>\n",
       "      <td>156.0</td>\n",
       "    </tr>\n",
       "    <tr>\n",
       "      <th>3</th>\n",
       "      <td>Kiwi</td>\n",
       "      <td>21.0</td>\n",
       "    </tr>\n",
       "    <tr>\n",
       "      <th>4</th>\n",
       "      <td>Mango</td>\n",
       "      <td>190.0</td>\n",
       "    </tr>\n",
       "    <tr>\n",
       "      <th>5</th>\n",
       "      <td>Orange</td>\n",
       "      <td>120.0</td>\n",
       "    </tr>\n",
       "    <tr>\n",
       "      <th>6</th>\n",
       "      <td>Pineapple</td>\n",
       "      <td>54.0</td>\n",
       "    </tr>\n",
       "  </tbody>\n",
       "</table>\n",
       "</div>"
      ],
      "text/plain": [
       "     product  revenue\n",
       "0      Apple     90.0\n",
       "1     Banana     60.0\n",
       "2     Grapes    156.0\n",
       "3       Kiwi     21.0\n",
       "4      Mango    190.0\n",
       "5     Orange    120.0\n",
       "6  Pineapple     54.0"
      ]
     },
     "execution_count": 7,
     "metadata": {},
     "output_type": "execute_result"
    }
   ],
   "source": [
    "df_revenue = pd.read_sql_query(\"\"\"\n",
    "SELECT product, SUM(quantity * price) AS revenue\n",
    "FROM sales\n",
    "GROUP BY product\n",
    "\"\"\", conn)\n",
    "df_revenue['revenue'] = pd.to_numeric(df_revenue['revenue'])\n",
    "df_revenue"
   ]
  },
  {
   "cell_type": "code",
   "execution_count": 8,
   "id": "122ef6f7-270a-4147-afdc-afb56f0a240d",
   "metadata": {},
   "outputs": [
    {
     "data": {
      "text/html": [
       "<div>\n",
       "<style scoped>\n",
       "    .dataframe tbody tr th:only-of-type {\n",
       "        vertical-align: middle;\n",
       "    }\n",
       "\n",
       "    .dataframe tbody tr th {\n",
       "        vertical-align: top;\n",
       "    }\n",
       "\n",
       "    .dataframe thead th {\n",
       "        text-align: right;\n",
       "    }\n",
       "</style>\n",
       "<table border=\"1\" class=\"dataframe\">\n",
       "  <thead>\n",
       "    <tr style=\"text-align: right;\">\n",
       "      <th></th>\n",
       "      <th>total_quantity</th>\n",
       "      <th>total_revenue</th>\n",
       "    </tr>\n",
       "  </thead>\n",
       "  <tbody>\n",
       "    <tr>\n",
       "      <th>0</th>\n",
       "      <td>205</td>\n",
       "      <td>691.0</td>\n",
       "    </tr>\n",
       "  </tbody>\n",
       "</table>\n",
       "</div>"
      ],
      "text/plain": [
       "   total_quantity  total_revenue\n",
       "0             205          691.0"
      ]
     },
     "execution_count": 8,
     "metadata": {},
     "output_type": "execute_result"
    }
   ],
   "source": [
    "df_total = pd.read_sql_query(\"\"\"\n",
    "SELECT SUM(quantity) AS total_quantity, SUM(quantity * price) AS total_revenue\n",
    "FROM sales\n",
    "\"\"\", conn)\n",
    "df_total"
   ]
  },
  {
   "cell_type": "code",
   "execution_count": 9,
   "id": "5ed35243-11ea-4294-8b72-d66fb96ebd06",
   "metadata": {},
   "outputs": [
    {
     "data": {
      "image/png": "[encoded data removed]",
      "text/plain": [
       "<Figure size 640x480 with 1 Axes>"
      ]
     },
     "metadata": {},
     "output_type": "display_data"
    }
   ],
   "source": [
    "if not df_revenue.empty:\n",
    "    df_revenue.plot(kind='bar', x='product', y='revenue', legend=False, color='skyblue')\n",
    "    plt.ylabel(\"Revenue\")\n",
    "    plt.title(\"Revenue by Product\")\n",
    "    plt.tight_layout()\n",
    "    plt.savefig(\"sales_chart.png\") \n",
    "    plt.show()\n",
    "else:\n",
    "    print(\"No data to plot.\")"
   ]
  },
  {
   "cell_type": "code",
   "execution_count": 10,
   "id": "110e8a3d-ff66-4ec1-a506-ce0d8d4e8d52",
   "metadata": {},
   "outputs": [],
   "source": [
    "conn.close()"
   ]
  },
  {
   "cell_type": "code",
   "execution_count": null,
   "id": "52791d3d-bfe2-4591-bc9f-7084ded9057c",
   "metadata": {},
   "outputs": [],
   "source": []
  }
 ],
 "metadata": {
  "kernelspec": {
   "display_name": "Python 3 (ipykernel)",
   "language": "python",
   "name": "python3"
  },
  "language_info": {
   "codemirror_mode": {
    "name": "ipython",
    "version": 3
   },
   "file_extension": ".py",
   "mimetype": "text/x-python",
   "name": "python",
   "nbconvert_exporter": "python",
   "pygments_lexer": "ipython3",
   "version": "3.13.5"
  }
 },
 "nbformat": 4,
 "nbformat_minor": 5
}
